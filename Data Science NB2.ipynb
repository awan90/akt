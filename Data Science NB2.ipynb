{
    "cells": [
        {
            "cell_type": "markdown",
            "metadata": {
                "collapsed": true
            },
            "source": "# My Jupyter Notebook on IBM Watson Studio"
        },
        {
            "cell_type": "markdown",
            "metadata": {},
            "source": "## Awaneesh Tiwari\nData Specialist"
        },
        {
            "cell_type": "markdown",
            "metadata": {},
            "source": "I am interested in data science because I wanted to apply my learning in the health sector. This is my area of interest."
        },
        {
            "cell_type": "markdown",
            "metadata": {},
            "source": "### The below code to display the text using python syntax.  I feel, this is a great tool to design applications, building models and connecting to the data respository such as: GitHub."
        },
        {
            "cell_type": "code",
            "execution_count": 12,
            "metadata": {},
            "outputs": [
                {
                    "name": "stdout",
                    "output_type": "stream",
                    "text": "Welcome to my first program in Python\nHello World\n5\nJohn\n[1 2 3 4 5 6]\n"
                }
            ],
            "source": "print(\"Welcome to my first program in Python\")\nprint(\"Hello World\")\n\nx=5\ny=\"John\"\nprint(x)\nprint(y)\n\nimport numpy as np\narr1 = np.array([1, 2, 3])\narr2 = np.array([4, 5, 6])\narr = np.concatenate((arr1, arr2))\nprint(arr)"
        },
        {
            "cell_type": "markdown",
            "metadata": {},
            "source": "print(\"Example of bulleted list--------------\")\n  <ol>\n  <p>This is some info.</p>\n  <li>This is question one.</li>\n  <p>This is more info.</p>\n  <li>This is question two.</li>\n</ol>\n\nprint(\"Example of numbered list--------------\")\n* one\n* two\n* three\n\n1. one\n2. two\n3. three\n\n<p>This is some info.</p>\n<p>&nbsp; &nbsp; 1. This is question one.</p>\n<p>This is more info.</p>\n<p>&nbsp; &nbsp; 2. This is question two.</p>\n\n\n<table ><tr><th >Left/Right <th><th> Regression <th><th> Odds ratio <tr><tr>\n<tr><td> Left <td><td> Linear <td><td> odds of the event <td><tr><table>\n    \n\n    \n    To create link in the same notebook \nStep 1: Create link\n\n[To some Internal Section](#section_id)\n    [To some Internal Section](#sec_id2)\nStep 2: Create destination\n\n<a id='section_id'></a>\n    \n    \n    \n    \n    To create link in one notebook and destination in another notebook.\n\nStep 1: Create link\n\n[To Some Internal Section](another_notebook.ipynb#section_id2)\nStep 2: Create Destination\n\n<a id='section_id2'></a>\nIf the notebook is inside a folder present in the current working directory:\n\n[To Some Internal Section](TestFolder/another_notebook.ipynb#section_id3)"
        },
        {
            "cell_type": "code",
            "execution_count": null,
            "metadata": {},
            "outputs": [],
            "source": ""
        },
        {
            "cell_type": "code",
            "execution_count": null,
            "metadata": {},
            "outputs": [],
            "source": ""
        },
        {
            "cell_type": "code",
            "execution_count": null,
            "metadata": {},
            "outputs": [],
            "source": ""
        },
        {
            "cell_type": "code",
            "execution_count": null,
            "metadata": {},
            "outputs": [],
            "source": ""
        }
    ],
    "metadata": {
        "kernelspec": {
            "display_name": "Python 3.10",
            "language": "python",
            "name": "python3"
        },
        "language_info": {
            "codemirror_mode": {
                "name": "ipython",
                "version": 3
            },
            "file_extension": ".py",
            "mimetype": "text/x-python",
            "name": "python",
            "nbconvert_exporter": "python",
            "pygments_lexer": "ipython3",
            "version": "3.10.9"
        }
    },
    "nbformat": 4,
    "nbformat_minor": 1
}